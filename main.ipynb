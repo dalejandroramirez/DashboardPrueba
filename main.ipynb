{
 "cells": [
  {
   "cell_type": "markdown",
   "metadata": {},
   "source": [
    "# Streamlit"
   ]
  },
  {
   "cell_type": "markdown",
   "metadata": {},
   "source": [
    "<img src='/home/pc/Documentos/CodigoFacilito/AnalisisDatos/streamlit/image/streamli1.png ' >\n",
    "\n",
    "- Documentacion https://docs.streamlit.io\n",
    "- GitHub con un ejemplo https://github.com/DSandovalFlavio/CF-Dashboarding-Streamlit"
   ]
  },
  {
   "cell_type": "markdown",
   "metadata": {},
   "source": [
    "### ¿Como podemos crear dashboard?"
   ]
  },
  {
   "cell_type": "code",
   "execution_count": null,
   "metadata": {},
   "outputs": [],
   "source": []
  }
 ],
 "metadata": {
  "language_info": {
   "name": "python"
  },
  "orig_nbformat": 4
 },
 "nbformat": 4,
 "nbformat_minor": 2
}
