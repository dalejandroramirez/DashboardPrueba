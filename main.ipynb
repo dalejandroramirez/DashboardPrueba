{
 "cells": [
  {
   "cell_type": "markdown",
   "metadata": {},
   "source": [
    "# Streamlit"
   ]
  },
  {
   "cell_type": "markdown",
   "metadata": {},
   "source": [
    "<img src='/home/pc/Documentos/CodigoFacilito/Dashboard/streamlit/image/streamli1.png' >\n",
    "\n",
    "- Documentacion https://docs.streamlit.io\n",
    "- GitHub con un ejemplo https://github.com/DSandovalFlavio/CF-Dashboarding-Streamlit"
   ]
  },
  {
   "cell_type": "markdown",
   "metadata": {},
   "source": [
    "### ¿Como podemos crear dashboard?"
   ]
  },
  {
   "cell_type": "markdown",
   "metadata": {},
   "source": [
    "- Incializacion de streamlit con:  **streamlit hello**\n",
    "\n",
    "- Para actualizar **streamlit run app**\n",
    "\n"
   ]
  },
  {
   "cell_type": "markdown",
   "metadata": {},
   "source": [
    "Notas rapidas\n",
    "- line_chart_total, pie_chart_total = st.columns((2,1))  \n",
    ": Divide el lienzo en 3 partes y toma 2/3 partes de la pantalla para la primera entrada"
   ]
  },
  {
   "cell_type": "markdown",
   "metadata": {},
   "source": [
    "# Deploy\n",
    "En la barra superior derecha, se escoge **Deploy this app**"
   ]
  }
 ],
 "metadata": {
  "kernelspec": {
   "display_name": "Python 3.10.6 64-bit",
   "language": "python",
   "name": "python3"
  },
  "language_info": {
   "name": "python",
   "version": "3.10.6"
  },
  "orig_nbformat": 4,
  "vscode": {
   "interpreter": {
    "hash": "916dbcbb3f70747c44a77c7bcd40155683ae19c65e1c03b4aa3499c5328201f1"
   }
  }
 },
 "nbformat": 4,
 "nbformat_minor": 2
}
